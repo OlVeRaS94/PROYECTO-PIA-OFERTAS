{
 "cells": [
  {
   "cell_type": "code",
   "execution_count": 5,
   "metadata": {},
   "outputs": [
    {
     "name": "stdout",
     "output_type": "stream",
     "text": [
      "Pagina 1\n",
      "Pagina 2\n"
     ]
    },
    {
     "data": {
      "text/plain": [
       "['/lenovo-v15-g2-ijl-n4500-8gb-256gb-15-6/',\n",
       " '/asus-zenbook-duo-ux8406ma-pz271w-u9-185h-32gb-2tb-14-w11h/',\n",
       " '/lenovo-v15-i5-1235u-8gb-256gb-w11h-15-6-fhd/',\n",
       " '/asus-e1504fa-nj158w-amd-r5-7520u-8gb-512-w11h-15-6/',\n",
       " '/msi-creator-pro-m16-hx-c14vjg-211es-i7-14700hx-rtx-2000-32gb-1tb-16-w11h/',\n",
       " '/medion-erazer-major-x20-md62617-i9-14900hx-rtx-4070-32gb-2tb-16-w11h/',\n",
       " '/hp-15s-fq4056ns-i7-1195g7-8gb-512gb-15-6/',\n",
       " '/medion-erazer-akoya-e16433-i7-1255u-16gb-1tb-16-w11h/',\n",
       " '/medion-erazer-crawler-e50-md62593-i5-12450h-rtx-4050-16gb-512gb-15-6-freedos/',\n",
       " '/msi-thin-15-b12ve-1490xes-i5-12450h-rtx-4050-16gb-512gb-15-6-freedos/',\n",
       " '/apple-macbook-pro-m3-8gb-1tb-14-plata/',\n",
       " '/msi-pulse-16-ai-c1vgkg-064xes-u7-155h-rtx-4070-32gb-1tb-16-freedos/',\n",
       " '/asus-f1500ea-ej2383w-i3-1115g4-8gb-512gb-w11h-15-6/',\n",
       " '/asus-zenbook-15-oled-um3504da-ma371w-r5-7535u-16gb-512gb-15-6-w11h/',\n",
       " '/portatil-asus-vivobook-15-f1504za-nj694w-intel-core-i5-1235u-8gb-512gb-ssd-15-6-win11/',\n",
       " '/medion-erazer-crawler-e30e-i5-12450h-rtx-2050-8gb-512gb-15-6-freedos/',\n",
       " '/apple-macbook-air-15-m3-16gb-512gb-15-3-macos-plata/',\n",
       " '/asus-vivobook-17-f1704va-au186w-i5-1335u-16gb-512gb-17-3-w11h/',\n",
       " '/acer-travelmate-p2-tmp215-54-555j-i5-1235u-16gb-512gb-w11p-15-6/',\n",
       " '/msi-summit-a16-ai-a3hmtg-076es-amd-ryzen-ai-9-365-32gb-1tb-16-w11h/',\n",
       " '/msi-stealth-18-ai-studio-a1vgg-007es-u9-185h-rtx-4070-32gb-1tb-18-w11h/',\n",
       " '/msi-modern-15-f13mg-248xes-i5-1335u-16gb-512gb-15-6-freedos/',\n",
       " '/honor-magicbook-r5-4500u-8gb-512gb-14-w10h/',\n",
       " '/razer-blade-16-rz09-i9-14900hx-rtx-4070-16gb-2tb-16-w11h/',\n",
       " '/msi-vector-16-hx-a14vhg-822xes-i7-14650hx-rtx-4080-32gb-1tb-16-freedos/',\n",
       " '/msi-katana-a17-b8vf-875xes-r7-8845hs-rtx-4060-32gb-1tb-17-3-freedos/',\n",
       " '/msi-thin-15-b13ve-2688xes-i5-13420h-rtx-4050-16gb-512gb-15-freedos/',\n",
       " '/msi-stealth-a16-ai-a3xvgg-246xes-amd-ryzen-ai-9-hx-370-rtx-4070-32gb-1tb-16-freedos/',\n",
       " '/msi-stealth-a16-ai-a3xvfg-245es-amd-ryzen-ai-9-hx-370-rtx-4060-32gb-1tb-16-w11h/',\n",
       " '/msi-vector-16-hx-a14vhg-816es-i9-14900hx-rtx-4080-32gb-1tb-16-w11h/',\n",
       " '/msi-thin-15-b13ve-2655xes-i7-13620h-rtx-4050-16gb-512gb-15-freedos/',\n",
       " '/msi-sword-16-hx-b13vgkg-698xes-i7-13700hx-rtx-4070-16gb-1tb-16-freedos/',\n",
       " '/msi-stealth-18-mercedesamg-a1vhg-079es-u9-185h-rtx-4080-64gb-1tb-18-w11h/',\n",
       " '/msi-crosshair-16-hx-monster-hunter-edition-d14vfkg-428xes-i7-14700hx-rtx-4060-32gb-1tb-16-freedos/',\n",
       " '/msi-thin-15-b12ve-1856xes-i7-12650h-rtx-4050-16gb-512gb-15-freedos/',\n",
       " '/msi-thin-15-b12uc-1841xes-i7-12650h-rtx-3050-16gb-512gb-15-freedos/',\n",
       " '/msi-creator-z17-hx-studio-a14vgt-279es-i7-14700hx-rtx-4070-32gb-1tb-17-w11p/',\n",
       " '/msi-cyborg-14-a13vf-053xes-i5-13420h-rtx-4060-16gb-512gb-14-freedos/',\n",
       " '/msi-prestige-16-ai-studio-b1vfg-031es-u9-185h-rtx-4060-32gb-2tb-16-w11p/',\n",
       " '/msi-bravo-15-c7ve-214xes-r7-7735hs-rtx-4050-16gb-512gb-15-freedos/',\n",
       " '/msi-creator-z17-hx-studio-a14vft-277es-i9-14900hx-rtx-4060-32gb-1tb-17-w11p/',\n",
       " '/msi-prestige-14h-b12ucx-414xes-i5-12450h-rtx-2050-16gb-512gb-14-freedos/',\n",
       " '/msi-sword-16-hx-b14vgkg-603xes-i9-14900hx-rtx-4070-32gb-1tb-16-freedos/',\n",
       " '/asus-rog-ally-rc71l-ryzen-z1-extreme-16gb-512gb-7-w11h/',\n",
       " '/razer-blade-16-i9-14900hx-rtx-4080-32gb-1tb-16-w11h/',\n",
       " '/msi-katana-17-b13vfk-087es-i7-13620h-rtx-4060-16gb-1tb-17-3-w11h/',\n",
       " '/lenovo-v15-g4-iru-83a100gesp-i5-13420h-16gb-512gb-15-6-freedos/',\n",
       " '/gigabyte-aorus-15-2024-bkg-13es754sh-u7-155h-rtx-4060-16gb-1tb-15-6-w11h/',\n",
       " '/msi-stealth-16-ai-studio-a1vig-033xes-ultra9-rtx-4090-32gb-1tb-16-freedos/',\n",
       " '/msi-bravo-15-b5ed-029es-r7-5800h-rx-6500m-16gb-512gb-15-w11h/']"
      ]
     },
     "execution_count": 5,
     "metadata": {},
     "output_type": "execute_result"
    }
   ],
   "source": [
    "from requests_html import HTMLSession\n",
    "\n",
    "session = HTMLSession()\n",
    "portatil_links = []\n",
    "\n",
    "for i in range(1,3):\n",
    "    print(f'Pagina {i}')\n",
    "    r = session.get(url=f\"https://www.coolmod.com/portatiles-portatiles/?pagina=1{i}\")\n",
    "    \n",
    "    articles = r.html.find('article')\n",
    "    links = [article.find('a', first=True).attrs['href'] for article in articles]\n",
    "    portatil_links.extend(links)\n",
    "\n",
    "portatil_links"
   ]
  },
  {
   "cell_type": "code",
   "execution_count": 6,
   "metadata": {},
   "outputs": [
    {
     "data": {
      "text/plain": [
       "'/lenovo-v15-g2-ijl-n4500-8gb-256gb-15-6/'"
      ]
     },
     "execution_count": 6,
     "metadata": {},
     "output_type": "execute_result"
    }
   ],
   "source": [
    "portatil_links[0]"
   ]
  },
  {
   "cell_type": "code",
   "execution_count": 11,
   "metadata": {},
   "outputs": [
    {
     "name": "stdout",
     "output_type": "stream",
     "text": [
      "{}\n"
     ]
    }
   ],
   "source": [
    "r = session.get(url=f'https://www.coolmod.com{portatil_links[0]}')\n",
    "specs = r.html.find('.collapse-content.prose', first=True)\n",
    "\n",
    "features = {}\n",
    "\n",
    "# Cada caracteristica del portatil\n",
    "elements = specs.find('p, ul')\n",
    "\n",
    "current_section = None\n",
    "for element in elements:\n",
    "    if element.tag == 'p':\n",
    "        # Extract section title\n",
    "        current_section = element.text.strip()\n",
    "        features[current_section] = []\n",
    "    elif element.tag == 'ul' and current_section:\n",
    "        # Process list items\n",
    "        for li in element.find('li'):\n",
    "            text = li.text.strip()\n",
    "            if ':' in text:\n",
    "                key, value = text.split(':', 1)\n",
    "                features[current_section].append({key.strip(): value.strip()})\n",
    "            else:\n",
    "                features[current_section].append(text)\n",
    "\n",
    "print(features)"
   ]
  },
  {
   "cell_type": "code",
   "execution_count": null,
   "metadata": {},
   "outputs": [],
   "source": [
    "import json\n",
    "from requests_html import HTMLSession\n",
    "\n",
    "session = HTMLSession()\n",
    "info_list = []\n",
    "\n",
    "for link in portatil_links:\n",
    "    r = session.get(f'https://www.mediamarkt.es{link}')\n",
    "    tables = r.html.find('td')\n",
    "    \n",
    "    info = {}\n",
    "    for i in range(0, len(tables), 2):\n",
    "        clave = tables[i].text.strip()\n",
    "        valor = tables[i+1].text.strip()\n",
    "        info[clave] = valor\n",
    "    \n",
    "    info_list.append(info)\n",
    "\n",
    "with open('info_list.json', 'w', encoding='utf-8') as f:\n",
    "    json.dump(info_list, f, ensure_ascii=False, indent=4)\n",
    "\n",
    "for info in info_list:\n",
    "    print(info)"
   ]
  },
  {
   "cell_type": "code",
   "execution_count": null,
   "metadata": {},
   "outputs": [],
   "source": []
  }
 ],
 "metadata": {
  "kernelspec": {
   "display_name": ".venv",
   "language": "python",
   "name": "python3"
  },
  "language_info": {
   "codemirror_mode": {
    "name": "ipython",
    "version": 3
   },
   "file_extension": ".py",
   "mimetype": "text/x-python",
   "name": "python",
   "nbconvert_exporter": "python",
   "pygments_lexer": "ipython3",
   "version": "3.12.9"
  }
 },
 "nbformat": 4,
 "nbformat_minor": 2
}
