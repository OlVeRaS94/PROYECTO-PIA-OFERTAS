{
 "cells": [
  {
   "cell_type": "code",
   "execution_count": 2,
   "metadata": {},
   "outputs": [],
   "source": [
    "import pandas as pd"
   ]
  },
  {
   "cell_type": "code",
   "execution_count": 3,
   "metadata": {},
   "outputs": [
    {
     "data": {
      "text/html": [
       "<div>\n",
       "<style scoped>\n",
       "    .dataframe tbody tr th:only-of-type {\n",
       "        vertical-align: middle;\n",
       "    }\n",
       "\n",
       "    .dataframe tbody tr th {\n",
       "        vertical-align: top;\n",
       "    }\n",
       "\n",
       "    .dataframe thead th {\n",
       "        text-align: right;\n",
       "    }\n",
       "</style>\n",
       "<table border=\"1\" class=\"dataframe\">\n",
       "  <thead>\n",
       "    <tr style=\"text-align: right;\">\n",
       "      <th></th>\n",
       "      <th>Procesador</th>\n",
       "      <th>RAM</th>\n",
       "      <th>Tipo RAM</th>\n",
       "      <th>Almacenamiento</th>\n",
       "      <th>Graficos</th>\n",
       "      <th>Pantalla</th>\n",
       "      <th>Resolucion</th>\n",
       "      <th>Sistema Operativo</th>\n",
       "      <th>Bateria</th>\n",
       "      <th>Precio</th>\n",
       "      <th>Chollo</th>\n",
       "      <th>Probabilidad_Chollo</th>\n",
       "    </tr>\n",
       "  </thead>\n",
       "  <tbody>\n",
       "    <tr>\n",
       "      <th>0</th>\n",
       "      <td>Intel Core i5-1135G7</td>\n",
       "      <td>8.0</td>\n",
       "      <td>DDR4</td>\n",
       "      <td>512.0</td>\n",
       "      <td>Intel Iris Xe Graphics</td>\n",
       "      <td>15.6</td>\n",
       "      <td>1920x1080</td>\n",
       "      <td>No</td>\n",
       "      <td>70.0</td>\n",
       "      <td>549.00</td>\n",
       "      <td>1</td>\n",
       "      <td>0.99</td>\n",
       "    </tr>\n",
       "    <tr>\n",
       "      <th>1</th>\n",
       "      <td>AMD Ryzen 7-8845HS</td>\n",
       "      <td>32.0</td>\n",
       "      <td>DDR5</td>\n",
       "      <td>1.0</td>\n",
       "      <td>AMD Radeon 780M</td>\n",
       "      <td>17.3</td>\n",
       "      <td>2560x1440</td>\n",
       "      <td>Windows 11 Home</td>\n",
       "      <td>83.0</td>\n",
       "      <td>1862.41</td>\n",
       "      <td>0</td>\n",
       "      <td>0.01</td>\n",
       "    </tr>\n",
       "    <tr>\n",
       "      <th>2</th>\n",
       "      <td>Intel Core i7-14650HX</td>\n",
       "      <td>32.0</td>\n",
       "      <td>DDR5</td>\n",
       "      <td>1.0</td>\n",
       "      <td>Intel® UHD Graphics</td>\n",
       "      <td>16.1</td>\n",
       "      <td>1920x1080</td>\n",
       "      <td>FreeDOS</td>\n",
       "      <td>70.0</td>\n",
       "      <td>1471.11</td>\n",
       "      <td>0</td>\n",
       "      <td>0.34</td>\n",
       "    </tr>\n",
       "    <tr>\n",
       "      <th>3</th>\n",
       "      <td>Intel Core i7-12650H</td>\n",
       "      <td>16.0</td>\n",
       "      <td>DDR4</td>\n",
       "      <td>512.0</td>\n",
       "      <td>Intel® UHD Graphics</td>\n",
       "      <td>15.6</td>\n",
       "      <td>1920x1080</td>\n",
       "      <td>FreeDOS</td>\n",
       "      <td>70.0</td>\n",
       "      <td>960.46</td>\n",
       "      <td>1</td>\n",
       "      <td>0.99</td>\n",
       "    </tr>\n",
       "    <tr>\n",
       "      <th>4</th>\n",
       "      <td>AMD Ryzen 7-8845HS</td>\n",
       "      <td>32.0</td>\n",
       "      <td>DDR5</td>\n",
       "      <td>1.0</td>\n",
       "      <td>AMD Radeon 780M</td>\n",
       "      <td>17.3</td>\n",
       "      <td>1920x1080</td>\n",
       "      <td>FreeDOS</td>\n",
       "      <td>83.0</td>\n",
       "      <td>1471.11</td>\n",
       "      <td>0</td>\n",
       "      <td>0.03</td>\n",
       "    </tr>\n",
       "    <tr>\n",
       "      <th>...</th>\n",
       "      <td>...</td>\n",
       "      <td>...</td>\n",
       "      <td>...</td>\n",
       "      <td>...</td>\n",
       "      <td>...</td>\n",
       "      <td>...</td>\n",
       "      <td>...</td>\n",
       "      <td>...</td>\n",
       "      <td>...</td>\n",
       "      <td>...</td>\n",
       "      <td>...</td>\n",
       "      <td>...</td>\n",
       "    </tr>\n",
       "    <tr>\n",
       "      <th>242</th>\n",
       "      <td>Intel Core i7-1255U</td>\n",
       "      <td>8.0</td>\n",
       "      <td>DDR4</td>\n",
       "      <td>512.0</td>\n",
       "      <td>Intel Iris Xe Graphics</td>\n",
       "      <td>15.6</td>\n",
       "      <td>1920x1080</td>\n",
       "      <td>No</td>\n",
       "      <td>38.0</td>\n",
       "      <td>782.99</td>\n",
       "      <td>1</td>\n",
       "      <td>1.00</td>\n",
       "    </tr>\n",
       "    <tr>\n",
       "      <th>243</th>\n",
       "      <td>Intel Core Ultra 9-185H</td>\n",
       "      <td>32.0</td>\n",
       "      <td>DDR5</td>\n",
       "      <td>2.0</td>\n",
       "      <td>Intel Arc Graphics</td>\n",
       "      <td>14.0</td>\n",
       "      <td>2880x1800</td>\n",
       "      <td>Windows 11 Home</td>\n",
       "      <td>75.0</td>\n",
       "      <td>2599.00</td>\n",
       "      <td>0</td>\n",
       "      <td>0.34</td>\n",
       "    </tr>\n",
       "    <tr>\n",
       "      <th>244</th>\n",
       "      <td>AMD Ryzen 5-7520U</td>\n",
       "      <td>8.0</td>\n",
       "      <td>DDR5</td>\n",
       "      <td>512.0</td>\n",
       "      <td>AMD Radeon 610M</td>\n",
       "      <td>15.6</td>\n",
       "      <td>1920x1080</td>\n",
       "      <td>Windows 11 Home</td>\n",
       "      <td>42.0</td>\n",
       "      <td>599.00</td>\n",
       "      <td>0</td>\n",
       "      <td>0.12</td>\n",
       "    </tr>\n",
       "    <tr>\n",
       "      <th>245</th>\n",
       "      <td>AMD Ryzen AI 9 HX-370</td>\n",
       "      <td>32.0</td>\n",
       "      <td>DDR5</td>\n",
       "      <td>1.0</td>\n",
       "      <td>AMD Radeon 890M</td>\n",
       "      <td>13.3</td>\n",
       "      <td>2880x1800</td>\n",
       "      <td>Windows 11 Home</td>\n",
       "      <td>73.0</td>\n",
       "      <td>2199.00</td>\n",
       "      <td>0</td>\n",
       "      <td>0.00</td>\n",
       "    </tr>\n",
       "    <tr>\n",
       "      <th>246</th>\n",
       "      <td>Intel Core i5-1340P</td>\n",
       "      <td>16.0</td>\n",
       "      <td>DDR5</td>\n",
       "      <td>512.0</td>\n",
       "      <td>Intel Iris Xe Graphics</td>\n",
       "      <td>15.0</td>\n",
       "      <td>1920x1080</td>\n",
       "      <td>Windows 11 Pro</td>\n",
       "      <td>9360.0</td>\n",
       "      <td>1219.99</td>\n",
       "      <td>1</td>\n",
       "      <td>0.95</td>\n",
       "    </tr>\n",
       "  </tbody>\n",
       "</table>\n",
       "<p>247 rows × 12 columns</p>\n",
       "</div>"
      ],
      "text/plain": [
       "                  Procesador   RAM Tipo RAM  Almacenamiento  \\\n",
       "0       Intel Core i5-1135G7   8.0     DDR4           512.0   \n",
       "1         AMD Ryzen 7-8845HS  32.0     DDR5             1.0   \n",
       "2      Intel Core i7-14650HX  32.0     DDR5             1.0   \n",
       "3       Intel Core i7-12650H  16.0     DDR4           512.0   \n",
       "4         AMD Ryzen 7-8845HS  32.0     DDR5             1.0   \n",
       "..                       ...   ...      ...             ...   \n",
       "242      Intel Core i7-1255U   8.0     DDR4           512.0   \n",
       "243  Intel Core Ultra 9-185H  32.0     DDR5             2.0   \n",
       "244        AMD Ryzen 5-7520U   8.0     DDR5           512.0   \n",
       "245    AMD Ryzen AI 9 HX-370  32.0     DDR5             1.0   \n",
       "246      Intel Core i5-1340P  16.0     DDR5           512.0   \n",
       "\n",
       "                   Graficos  Pantalla Resolucion Sistema Operativo  Bateria  \\\n",
       "0    Intel Iris Xe Graphics      15.6  1920x1080                No     70.0   \n",
       "1           AMD Radeon 780M      17.3  2560x1440   Windows 11 Home     83.0   \n",
       "2       Intel® UHD Graphics      16.1  1920x1080           FreeDOS     70.0   \n",
       "3       Intel® UHD Graphics      15.6  1920x1080           FreeDOS     70.0   \n",
       "4           AMD Radeon 780M      17.3  1920x1080           FreeDOS     83.0   \n",
       "..                      ...       ...        ...               ...      ...   \n",
       "242  Intel Iris Xe Graphics      15.6  1920x1080                No     38.0   \n",
       "243      Intel Arc Graphics      14.0  2880x1800   Windows 11 Home     75.0   \n",
       "244         AMD Radeon 610M      15.6  1920x1080   Windows 11 Home     42.0   \n",
       "245         AMD Radeon 890M      13.3  2880x1800   Windows 11 Home     73.0   \n",
       "246  Intel Iris Xe Graphics      15.0  1920x1080    Windows 11 Pro   9360.0   \n",
       "\n",
       "      Precio  Chollo  Probabilidad_Chollo  \n",
       "0     549.00       1                 0.99  \n",
       "1    1862.41       0                 0.01  \n",
       "2    1471.11       0                 0.34  \n",
       "3     960.46       1                 0.99  \n",
       "4    1471.11       0                 0.03  \n",
       "..       ...     ...                  ...  \n",
       "242   782.99       1                 1.00  \n",
       "243  2599.00       0                 0.34  \n",
       "244   599.00       0                 0.12  \n",
       "245  2199.00       0                 0.00  \n",
       "246  1219.99       1                 0.95  \n",
       "\n",
       "[247 rows x 12 columns]"
      ]
     },
     "execution_count": 3,
     "metadata": {},
     "output_type": "execute_result"
    }
   ],
   "source": [
    "chollos_df = pd.read_csv('chollos.csv')\n",
    "chollos_df"
   ]
  },
  {
   "cell_type": "code",
   "execution_count": 5,
   "metadata": {},
   "outputs": [
    {
     "name": "stdout",
     "output_type": "stream",
     "text": [
      "<class 'pandas.core.frame.DataFrame'>\n",
      "RangeIndex: 247 entries, 0 to 246\n",
      "Data columns (total 12 columns):\n",
      " #   Column               Non-Null Count  Dtype  \n",
      "---  ------               --------------  -----  \n",
      " 0   Procesador           247 non-null    object \n",
      " 1   RAM                  245 non-null    float64\n",
      " 2   Tipo RAM             212 non-null    object \n",
      " 3   Almacenamiento       238 non-null    float64\n",
      " 4   Graficos             229 non-null    object \n",
      " 5   Pantalla             246 non-null    float64\n",
      " 6   Resolucion           245 non-null    object \n",
      " 7   Sistema Operativo    236 non-null    object \n",
      " 8   Bateria              233 non-null    float64\n",
      " 9   Precio               246 non-null    float64\n",
      " 10  Chollo               247 non-null    int64  \n",
      " 11  Probabilidad_Chollo  247 non-null    float64\n",
      "dtypes: float64(6), int64(1), object(5)\n",
      "memory usage: 23.3+ KB\n"
     ]
    }
   ],
   "source": [
    "chollos_df.info()"
   ]
  },
  {
   "cell_type": "markdown",
   "metadata": {},
   "source": [
    "# RAM"
   ]
  },
  {
   "cell_type": "code",
   "execution_count": 15,
   "metadata": {},
   "outputs": [
    {
     "data": {
      "text/plain": [
       "np.int64(2)"
      ]
     },
     "execution_count": 15,
     "metadata": {},
     "output_type": "execute_result"
    }
   ],
   "source": [
    "chollos_df['RAM'].isnull().sum()"
   ]
  },
  {
   "cell_type": "code",
   "execution_count": 16,
   "metadata": {},
   "outputs": [
    {
     "data": {
      "text/plain": [
       "np.int64(0)"
      ]
     },
     "execution_count": 16,
     "metadata": {},
     "output_type": "execute_result"
    }
   ],
   "source": [
    "# Eliminar les files amb valors nuls a la columna RAM\n",
    "chollos_df = chollos_df.dropna(subset=['RAM'])\n",
    "chollos_df['RAM'].isnull().sum()"
   ]
  },
  {
   "cell_type": "code",
   "execution_count": 17,
   "metadata": {},
   "outputs": [
    {
     "data": {
      "text/plain": [
       "array([ 8., 32., 16., 64., 24., 36., 48.])"
      ]
     },
     "execution_count": 17,
     "metadata": {},
     "output_type": "execute_result"
    }
   ],
   "source": [
    "chollos_df['RAM'].unique()"
   ]
  },
  {
   "cell_type": "markdown",
   "metadata": {},
   "source": [
    "# Tipo RAM"
   ]
  },
  {
   "cell_type": "code",
   "execution_count": 18,
   "metadata": {},
   "outputs": [
    {
     "data": {
      "text/plain": [
       "np.int64(33)"
      ]
     },
     "execution_count": 18,
     "metadata": {},
     "output_type": "execute_result"
    }
   ],
   "source": [
    "chollos_df['Tipo RAM'].isnull().sum()"
   ]
  },
  {
   "cell_type": "code",
   "execution_count": 22,
   "metadata": {},
   "outputs": [
    {
     "name": "stderr",
     "output_type": "stream",
     "text": [
      "C:\\Users\\rosel\\AppData\\Local\\Temp\\ipykernel_20652\\2287635016.py:2: SettingWithCopyWarning: \n",
      "A value is trying to be set on a copy of a slice from a DataFrame\n",
      "\n",
      "See the caveats in the documentation: https://pandas.pydata.org/pandas-docs/stable/user_guide/indexing.html#returning-a-view-versus-a-copy\n",
      "  chollos_df['Tipo RAM'].fillna(tipoRAM_moda, inplace=True)\n"
     ]
    },
    {
     "data": {
      "text/plain": [
       "np.int64(0)"
      ]
     },
     "execution_count": 22,
     "metadata": {},
     "output_type": "execute_result"
    }
   ],
   "source": [
    "tipoRAM_moda = chollos_df['Tipo RAM'].mode()[0]\n",
    "chollos_df['Tipo RAM'].fillna(tipoRAM_moda, inplace=True)\n",
    "chollos_df['Tipo RAM'].isnull().sum()"
   ]
  },
  {
   "cell_type": "markdown",
   "metadata": {},
   "source": [
    "# Almacenamiento"
   ]
  },
  {
   "cell_type": "code",
   "execution_count": 23,
   "metadata": {},
   "outputs": [
    {
     "data": {
      "text/plain": [
       "np.int64(7)"
      ]
     },
     "execution_count": 23,
     "metadata": {},
     "output_type": "execute_result"
    }
   ],
   "source": [
    "chollos_df['Almacenamiento'].isnull().sum()"
   ]
  },
  {
   "cell_type": "code",
   "execution_count": 24,
   "metadata": {},
   "outputs": [
    {
     "data": {
      "text/plain": [
       "np.int64(0)"
      ]
     },
     "execution_count": 24,
     "metadata": {},
     "output_type": "execute_result"
    }
   ],
   "source": [
    "# Eliminar les files amb valors nuls a la columna Almacenamiento\n",
    "chollos_df = chollos_df.dropna(subset=['Almacenamiento'])\n",
    "chollos_df['Almacenamiento'].isnull().sum()"
   ]
  },
  {
   "cell_type": "code",
   "execution_count": null,
   "metadata": {},
   "outputs": [
    {
     "data": {
      "text/plain": [
       "0       512.0\n",
       "1      1000.0\n",
       "2      1000.0\n",
       "3       512.0\n",
       "4      1000.0\n",
       "        ...  \n",
       "242     512.0\n",
       "243    2000.0\n",
       "244     512.0\n",
       "245    1000.0\n",
       "246     512.0\n",
       "Name: Almacenamiento, Length: 247, dtype: float64"
      ]
     },
     "metadata": {},
     "output_type": "display_data"
    }
   ],
   "source": [
    "# Convertir els valors de la columna Almacenamiento a MB\n",
    "#chollos_df['Almacenamiento'] = np.where(chollos_df['Almacenamiento'].isin([1, 2]), chollos_df['Almacenamiento'] * 1000, chollos_df['Almacenamiento'])\n",
    "chollos_df['Almacenamiento'] = chollos_df['Almacenamiento'].apply(lambda x: x * 1000 if x in [1, 2] else x)\n",
    "chollos_df['Almacenamiento']"
   ]
  },
  {
   "cell_type": "code",
   "execution_count": 36,
   "metadata": {},
   "outputs": [
    {
     "data": {
      "text/plain": [
       "Almacenamiento\n",
       "512.0     110\n",
       "1000.0     87\n",
       "256.0      35\n",
       "2000.0      2\n",
       "128.0       2\n",
       "Name: count, dtype: int64"
      ]
     },
     "execution_count": 36,
     "metadata": {},
     "output_type": "execute_result"
    }
   ],
   "source": [
    "chollos_df['Almacenamiento'].value_counts()"
   ]
  },
  {
   "cell_type": "markdown",
   "metadata": {},
   "source": [
    "# Gráficos"
   ]
  },
  {
   "cell_type": "code",
   "execution_count": 25,
   "metadata": {},
   "outputs": [
    {
     "data": {
      "text/plain": [
       "np.int64(10)"
      ]
     },
     "execution_count": 25,
     "metadata": {},
     "output_type": "execute_result"
    }
   ],
   "source": [
    "chollos_df['Graficos'].isnull().sum()"
   ]
  },
  {
   "cell_type": "code",
   "execution_count": 26,
   "metadata": {},
   "outputs": [
    {
     "data": {
      "text/plain": [
       "np.int64(1)"
      ]
     },
     "execution_count": 26,
     "metadata": {},
     "output_type": "execute_result"
    }
   ],
   "source": [
    "# Omplir els valors nuls de la columna Gràfics amb 'Intel® UHD Graphics' si el procesador és de la marca Intel\n",
    "chollos_df['Graficos'] = chollos_df.apply(\n",
    "    lambda row: 'Intel® UHD Graphics' if pd.isnull(row['Graficos']) and 'Intel' in row['Procesador'] else row['Graficos'],\n",
    "    axis=1\n",
    ")\n",
    "chollos_df['Graficos'].isnull().sum()"
   ]
  },
  {
   "cell_type": "code",
   "execution_count": 27,
   "metadata": {},
   "outputs": [
    {
     "data": {
      "text/plain": [
       "np.int64(0)"
      ]
     },
     "execution_count": 27,
     "metadata": {},
     "output_type": "execute_result"
    }
   ],
   "source": [
    "chollos_df = chollos_df.dropna(subset=['Graficos'])\n",
    "chollos_df['Graficos'].isnull().sum()"
   ]
  },
  {
   "cell_type": "markdown",
   "metadata": {},
   "source": [
    "# Pantalla"
   ]
  },
  {
   "cell_type": "code",
   "execution_count": 28,
   "metadata": {},
   "outputs": [
    {
     "data": {
      "text/plain": [
       "np.int64(1)"
      ]
     },
     "execution_count": 28,
     "metadata": {},
     "output_type": "execute_result"
    }
   ],
   "source": [
    "chollos_df['Pantalla'].isnull().sum()"
   ]
  },
  {
   "cell_type": "code",
   "execution_count": 32,
   "metadata": {},
   "outputs": [
    {
     "data": {
      "text/plain": [
       "np.int64(0)"
      ]
     },
     "execution_count": 32,
     "metadata": {},
     "output_type": "execute_result"
    }
   ],
   "source": [
    "chollos_df = chollos_df.dropna(subset=['Pantalla'])\n",
    "chollos_df['Pantalla'].isnull().sum()"
   ]
  },
  {
   "cell_type": "markdown",
   "metadata": {},
   "source": [
    "# Resolución"
   ]
  },
  {
   "cell_type": "code",
   "execution_count": 33,
   "metadata": {},
   "outputs": [
    {
     "data": {
      "text/plain": [
       "np.int64(1)"
      ]
     },
     "execution_count": 33,
     "metadata": {},
     "output_type": "execute_result"
    }
   ],
   "source": [
    "chollos_df['Resolucion'].isnull().sum()"
   ]
  },
  {
   "cell_type": "code",
   "execution_count": 34,
   "metadata": {},
   "outputs": [
    {
     "data": {
      "text/plain": [
       "'1920x1080'"
      ]
     },
     "execution_count": 34,
     "metadata": {},
     "output_type": "execute_result"
    }
   ],
   "source": [
    "chollos_df['Resolucion'].mode()[0]"
   ]
  },
  {
   "cell_type": "code",
   "execution_count": 35,
   "metadata": {},
   "outputs": [
    {
     "name": "stderr",
     "output_type": "stream",
     "text": [
      "C:\\Users\\rosel\\AppData\\Local\\Temp\\ipykernel_20652\\3967496064.py:1: FutureWarning: A value is trying to be set on a copy of a DataFrame or Series through chained assignment using an inplace method.\n",
      "The behavior will change in pandas 3.0. This inplace method will never work because the intermediate object on which we are setting values always behaves as a copy.\n",
      "\n",
      "For example, when doing 'df[col].method(value, inplace=True)', try using 'df.method({col: value}, inplace=True)' or df[col] = df[col].method(value) instead, to perform the operation inplace on the original object.\n",
      "\n",
      "\n",
      "  chollos_df['Resolucion'].fillna(chollos_df['Resolucion'].mode()[0], inplace=True)\n"
     ]
    },
    {
     "data": {
      "text/plain": [
       "np.int64(0)"
      ]
     },
     "execution_count": 35,
     "metadata": {},
     "output_type": "execute_result"
    }
   ],
   "source": [
    "chollos_df['Resolucion'].fillna(chollos_df['Resolucion'].mode()[0], inplace=True)\n",
    "chollos_df['Resolucion'].isnull().sum()"
   ]
  },
  {
   "cell_type": "markdown",
   "metadata": {},
   "source": [
    "# Sistema Operativo"
   ]
  },
  {
   "cell_type": "code",
   "execution_count": 42,
   "metadata": {},
   "outputs": [
    {
     "data": {
      "text/plain": [
       "0              FreeDOS\n",
       "1      Windows 11 Home\n",
       "2              FreeDOS\n",
       "3              FreeDOS\n",
       "4              FreeDOS\n",
       "            ...       \n",
       "242            FreeDOS\n",
       "243    Windows 11 Home\n",
       "244    Windows 11 Home\n",
       "245    Windows 11 Home\n",
       "246     Windows 11 Pro\n",
       "Name: Sistema Operativo, Length: 236, dtype: object"
      ]
     },
     "execution_count": 42,
     "metadata": {},
     "output_type": "execute_result"
    }
   ],
   "source": [
    "chollos_df['Sistema Operativo'] = chollos_df['Sistema Operativo'].replace('No', 'FreeDOS')\n",
    "chollos_df['Sistema Operativo'] = chollos_df['Sistema Operativo'].replace('FreeDos', 'FreeDOS')\n",
    "chollos_df['Sistema Operativo'] = chollos_df['Sistema Operativo'].replace('Windows 11', 'Windows 11 Home')\n",
    "chollos_df['Sistema Operativo']"
   ]
  },
  {
   "cell_type": "code",
   "execution_count": 43,
   "metadata": {},
   "outputs": [
    {
     "data": {
      "text/html": [
       "<div>\n",
       "<style scoped>\n",
       "    .dataframe tbody tr th:only-of-type {\n",
       "        vertical-align: middle;\n",
       "    }\n",
       "\n",
       "    .dataframe tbody tr th {\n",
       "        vertical-align: top;\n",
       "    }\n",
       "\n",
       "    .dataframe thead th {\n",
       "        text-align: right;\n",
       "    }\n",
       "</style>\n",
       "<table border=\"1\" class=\"dataframe\">\n",
       "  <thead>\n",
       "    <tr style=\"text-align: right;\">\n",
       "      <th></th>\n",
       "      <th>Procesador</th>\n",
       "      <th>RAM</th>\n",
       "      <th>Tipo RAM</th>\n",
       "      <th>Almacenamiento</th>\n",
       "      <th>Graficos</th>\n",
       "      <th>Pantalla</th>\n",
       "      <th>Resolucion</th>\n",
       "      <th>Sistema Operativo</th>\n",
       "      <th>Bateria</th>\n",
       "      <th>Precio</th>\n",
       "      <th>Chollo</th>\n",
       "      <th>Probabilidad_Chollo</th>\n",
       "    </tr>\n",
       "  </thead>\n",
       "  <tbody>\n",
       "    <tr>\n",
       "      <th>26</th>\n",
       "      <td>Intel Core Ultra 7-155H</td>\n",
       "      <td>32.0</td>\n",
       "      <td>DDR5</td>\n",
       "      <td>1000.0</td>\n",
       "      <td>Intel® UHD Graphics</td>\n",
       "      <td>14.0</td>\n",
       "      <td>1920x1200</td>\n",
       "      <td>NaN</td>\n",
       "      <td>56.0</td>\n",
       "      <td>1849.99</td>\n",
       "      <td>1</td>\n",
       "      <td>0.70</td>\n",
       "    </tr>\n",
       "    <tr>\n",
       "      <th>41</th>\n",
       "      <td>Intel Core i5-</td>\n",
       "      <td>16.0</td>\n",
       "      <td>DDR4</td>\n",
       "      <td>512.0</td>\n",
       "      <td>Intel® UHD Graphics</td>\n",
       "      <td>14.0</td>\n",
       "      <td>1920x1080</td>\n",
       "      <td>NaN</td>\n",
       "      <td>43.0</td>\n",
       "      <td>864.99</td>\n",
       "      <td>1</td>\n",
       "      <td>0.96</td>\n",
       "    </tr>\n",
       "    <tr>\n",
       "      <th>50</th>\n",
       "      <td>Intel Core Ultra 7-155H</td>\n",
       "      <td>64.0</td>\n",
       "      <td>DDR5</td>\n",
       "      <td>1000.0</td>\n",
       "      <td>Intel® UHD Graphics</td>\n",
       "      <td>16.0</td>\n",
       "      <td>1920x1200</td>\n",
       "      <td>NaN</td>\n",
       "      <td>76.0</td>\n",
       "      <td>1979.20</td>\n",
       "      <td>1</td>\n",
       "      <td>0.63</td>\n",
       "    </tr>\n",
       "  </tbody>\n",
       "</table>\n",
       "</div>"
      ],
      "text/plain": [
       "                 Procesador   RAM Tipo RAM  Almacenamiento  \\\n",
       "26  Intel Core Ultra 7-155H  32.0     DDR5          1000.0   \n",
       "41           Intel Core i5-  16.0     DDR4           512.0   \n",
       "50  Intel Core Ultra 7-155H  64.0     DDR5          1000.0   \n",
       "\n",
       "               Graficos  Pantalla Resolucion Sistema Operativo  Bateria  \\\n",
       "26  Intel® UHD Graphics      14.0  1920x1200               NaN     56.0   \n",
       "41  Intel® UHD Graphics      14.0  1920x1080               NaN     43.0   \n",
       "50  Intel® UHD Graphics      16.0  1920x1200               NaN     76.0   \n",
       "\n",
       "     Precio  Chollo  Probabilidad_Chollo  \n",
       "26  1849.99       1                 0.70  \n",
       "41   864.99       1                 0.96  \n",
       "50  1979.20       1                 0.63  "
      ]
     },
     "execution_count": 43,
     "metadata": {},
     "output_type": "execute_result"
    }
   ],
   "source": [
    "chollos_df[chollos_df['Sistema Operativo'].isnull()]"
   ]
  },
  {
   "cell_type": "code",
   "execution_count": 45,
   "metadata": {},
   "outputs": [
    {
     "data": {
      "text/plain": [
       "np.int64(0)"
      ]
     },
     "execution_count": 45,
     "metadata": {},
     "output_type": "execute_result"
    }
   ],
   "source": [
    "chollos_df['Sistema Operativo'].fillna(chollos_df['Sistema Operativo'].mode()[0], inplace=True)\n",
    "chollos_df['Sistema Operativo'].isnull().sum()"
   ]
  },
  {
   "cell_type": "markdown",
   "metadata": {},
   "source": [
    "# Batería"
   ]
  },
  {
   "cell_type": "code",
   "execution_count": 51,
   "metadata": {
    "vscode": {
     "languageId": "ruby"
    }
   },
   "outputs": [
    {
     "data": {
      "text/html": [
       "<div>\n",
       "<style scoped>\n",
       "    .dataframe tbody tr th:only-of-type {\n",
       "        vertical-align: middle;\n",
       "    }\n",
       "\n",
       "    .dataframe tbody tr th {\n",
       "        vertical-align: top;\n",
       "    }\n",
       "\n",
       "    .dataframe thead th {\n",
       "        text-align: right;\n",
       "    }\n",
       "</style>\n",
       "<table border=\"1\" class=\"dataframe\">\n",
       "  <thead>\n",
       "    <tr style=\"text-align: right;\">\n",
       "      <th></th>\n",
       "      <th>Procesador</th>\n",
       "      <th>RAM</th>\n",
       "      <th>Tipo RAM</th>\n",
       "      <th>Almacenamiento</th>\n",
       "      <th>Graficos</th>\n",
       "      <th>Pantalla</th>\n",
       "      <th>Resolucion</th>\n",
       "      <th>Sistema Operativo</th>\n",
       "      <th>Bateria</th>\n",
       "      <th>Precio</th>\n",
       "      <th>Chollo</th>\n",
       "      <th>Probabilidad_Chollo</th>\n",
       "    </tr>\n",
       "  </thead>\n",
       "  <tbody>\n",
       "    <tr>\n",
       "      <th>246</th>\n",
       "      <td>Intel Core i5-1340P</td>\n",
       "      <td>16.0</td>\n",
       "      <td>DDR5</td>\n",
       "      <td>512.0</td>\n",
       "      <td>Intel Iris Xe Graphics</td>\n",
       "      <td>15.0</td>\n",
       "      <td>1920x1080</td>\n",
       "      <td>Windows 11 Pro</td>\n",
       "      <td>9360.0</td>\n",
       "      <td>1219.99</td>\n",
       "      <td>1</td>\n",
       "      <td>0.95</td>\n",
       "    </tr>\n",
       "  </tbody>\n",
       "</table>\n",
       "</div>"
      ],
      "text/plain": [
       "              Procesador   RAM Tipo RAM  Almacenamiento  \\\n",
       "246  Intel Core i5-1340P  16.0     DDR5           512.0   \n",
       "\n",
       "                   Graficos  Pantalla Resolucion Sistema Operativo  Bateria  \\\n",
       "246  Intel Iris Xe Graphics      15.0  1920x1080    Windows 11 Pro   9360.0   \n",
       "\n",
       "      Precio  Chollo  Probabilidad_Chollo  \n",
       "246  1219.99       1                 0.95  "
      ]
     },
     "execution_count": 51,
     "metadata": {},
     "output_type": "execute_result"
    }
   ],
   "source": [
    "Q1 = chollos_df['Bateria'].quantile(0.25)\n",
    "Q3 = chollos_df['Bateria'].quantile(0.75)\n",
    "IQR = Q3 - Q1\n",
    "\n",
    "# Límites inferior y superior\n",
    "lower_bound = Q1 - 1.5 * IQR\n",
    "upper_bound = Q3 + 1.5 * IQR\n",
    "\n",
    "# Filtrar los outliers\n",
    "outliers = chollos_df[(chollos_df['Bateria'] < lower_bound) | (chollos_df['Bateria'] > upper_bound)]\n",
    "outliers"
   ]
  },
  {
   "cell_type": "code",
   "execution_count": 52,
   "metadata": {},
   "outputs": [
    {
     "data": {
      "text/html": [
       "<div>\n",
       "<style scoped>\n",
       "    .dataframe tbody tr th:only-of-type {\n",
       "        vertical-align: middle;\n",
       "    }\n",
       "\n",
       "    .dataframe tbody tr th {\n",
       "        vertical-align: top;\n",
       "    }\n",
       "\n",
       "    .dataframe thead th {\n",
       "        text-align: right;\n",
       "    }\n",
       "</style>\n",
       "<table border=\"1\" class=\"dataframe\">\n",
       "  <thead>\n",
       "    <tr style=\"text-align: right;\">\n",
       "      <th></th>\n",
       "      <th>Procesador</th>\n",
       "      <th>RAM</th>\n",
       "      <th>Tipo RAM</th>\n",
       "      <th>Almacenamiento</th>\n",
       "      <th>Graficos</th>\n",
       "      <th>Pantalla</th>\n",
       "      <th>Resolucion</th>\n",
       "      <th>Sistema Operativo</th>\n",
       "      <th>Bateria</th>\n",
       "      <th>Precio</th>\n",
       "      <th>Chollo</th>\n",
       "      <th>Probabilidad_Chollo</th>\n",
       "    </tr>\n",
       "  </thead>\n",
       "  <tbody>\n",
       "    <tr>\n",
       "      <th>246</th>\n",
       "      <td>Intel Core i5-1340P</td>\n",
       "      <td>16.0</td>\n",
       "      <td>DDR5</td>\n",
       "      <td>512.0</td>\n",
       "      <td>Intel Iris Xe Graphics</td>\n",
       "      <td>15.0</td>\n",
       "      <td>1920x1080</td>\n",
       "      <td>Windows 11 Pro</td>\n",
       "      <td>41.0</td>\n",
       "      <td>1219.99</td>\n",
       "      <td>1</td>\n",
       "      <td>0.95</td>\n",
       "    </tr>\n",
       "  </tbody>\n",
       "</table>\n",
       "</div>"
      ],
      "text/plain": [
       "              Procesador   RAM Tipo RAM  Almacenamiento  \\\n",
       "246  Intel Core i5-1340P  16.0     DDR5           512.0   \n",
       "\n",
       "                   Graficos  Pantalla Resolucion Sistema Operativo  Bateria  \\\n",
       "246  Intel Iris Xe Graphics      15.0  1920x1080    Windows 11 Pro     41.0   \n",
       "\n",
       "      Precio  Chollo  Probabilidad_Chollo  \n",
       "246  1219.99       1                 0.95  "
      ]
     },
     "execution_count": 52,
     "metadata": {},
     "output_type": "execute_result"
    }
   ],
   "source": [
    "# Calcular la moda de la columna Bateria\n",
    "bateria_moda = chollos_df['Bateria'].mode()[0]\n",
    "\n",
    "# Aplicar la moda a los outliers en la columna Bateria\n",
    "chollos_df.loc[outliers.index, 'Bateria'] = bateria_moda\n",
    "chollos_df.loc[outliers.index]"
   ]
  },
  {
   "cell_type": "code",
   "execution_count": 58,
   "metadata": {},
   "outputs": [
    {
     "data": {
      "text/plain": [
       "np.int64(12)"
      ]
     },
     "execution_count": 58,
     "metadata": {},
     "output_type": "execute_result"
    }
   ],
   "source": [
    "chollos_df['Bateria'].isnull().sum()"
   ]
  },
  {
   "cell_type": "code",
   "execution_count": 75,
   "metadata": {},
   "outputs": [
    {
     "data": {
      "text/plain": [
       "np.float64(41.0)"
      ]
     },
     "execution_count": 75,
     "metadata": {},
     "output_type": "execute_result"
    }
   ],
   "source": [
    "chollos_df['Bateria'].mode()[0]"
   ]
  },
  {
   "cell_type": "code",
   "execution_count": 76,
   "metadata": {},
   "outputs": [
    {
     "name": "stderr",
     "output_type": "stream",
     "text": [
      "C:\\Users\\rosel\\AppData\\Local\\Temp\\ipykernel_20652\\2917780151.py:1: FutureWarning: A value is trying to be set on a copy of a DataFrame or Series through chained assignment using an inplace method.\n",
      "The behavior will change in pandas 3.0. This inplace method will never work because the intermediate object on which we are setting values always behaves as a copy.\n",
      "\n",
      "For example, when doing 'df[col].method(value, inplace=True)', try using 'df.method({col: value}, inplace=True)' or df[col] = df[col].method(value) instead, to perform the operation inplace on the original object.\n",
      "\n",
      "\n",
      "  chollos_df['Bateria'].fillna(chollos_df['Bateria'].mode()[0], inplace=True)\n"
     ]
    }
   ],
   "source": [
    "chollos_df['Bateria'].fillna(chollos_df['Bateria'].mode()[0], inplace=True)"
   ]
  },
  {
   "cell_type": "markdown",
   "metadata": {},
   "source": [
    "# Precio"
   ]
  },
  {
   "cell_type": "code",
   "execution_count": 77,
   "metadata": {},
   "outputs": [
    {
     "data": {
      "text/plain": [
       "np.int64(1)"
      ]
     },
     "execution_count": 77,
     "metadata": {},
     "output_type": "execute_result"
    }
   ],
   "source": [
    "chollos_df['Precio'].isnull().sum()"
   ]
  },
  {
   "cell_type": "code",
   "execution_count": 79,
   "metadata": {},
   "outputs": [
    {
     "data": {
      "text/plain": [
       "np.int64(0)"
      ]
     },
     "execution_count": 79,
     "metadata": {},
     "output_type": "execute_result"
    }
   ],
   "source": [
    "chollos_df = chollos_df.dropna(subset=['Precio'])\n",
    "chollos_df['Precio'].isnull().sum()"
   ]
  },
  {
   "cell_type": "markdown",
   "metadata": {},
   "source": [
    "# Eliminar columna 'Probabilidad Chollo'"
   ]
  },
  {
   "cell_type": "code",
   "execution_count": 80,
   "metadata": {},
   "outputs": [
    {
     "data": {
      "text/html": [
       "<div>\n",
       "<style scoped>\n",
       "    .dataframe tbody tr th:only-of-type {\n",
       "        vertical-align: middle;\n",
       "    }\n",
       "\n",
       "    .dataframe tbody tr th {\n",
       "        vertical-align: top;\n",
       "    }\n",
       "\n",
       "    .dataframe thead th {\n",
       "        text-align: right;\n",
       "    }\n",
       "</style>\n",
       "<table border=\"1\" class=\"dataframe\">\n",
       "  <thead>\n",
       "    <tr style=\"text-align: right;\">\n",
       "      <th></th>\n",
       "      <th>Procesador</th>\n",
       "      <th>RAM</th>\n",
       "      <th>Tipo RAM</th>\n",
       "      <th>Almacenamiento</th>\n",
       "      <th>Graficos</th>\n",
       "      <th>Pantalla</th>\n",
       "      <th>Resolucion</th>\n",
       "      <th>Sistema Operativo</th>\n",
       "      <th>Bateria</th>\n",
       "      <th>Precio</th>\n",
       "      <th>Chollo</th>\n",
       "    </tr>\n",
       "  </thead>\n",
       "  <tbody>\n",
       "    <tr>\n",
       "      <th>0</th>\n",
       "      <td>Intel Core i5-1135G7</td>\n",
       "      <td>8.0</td>\n",
       "      <td>DDR4</td>\n",
       "      <td>512.0</td>\n",
       "      <td>Intel Iris Xe Graphics</td>\n",
       "      <td>15.6</td>\n",
       "      <td>1920x1080</td>\n",
       "      <td>FreeDOS</td>\n",
       "      <td>70.0</td>\n",
       "      <td>549.00</td>\n",
       "      <td>1</td>\n",
       "    </tr>\n",
       "    <tr>\n",
       "      <th>1</th>\n",
       "      <td>AMD Ryzen 7-8845HS</td>\n",
       "      <td>32.0</td>\n",
       "      <td>DDR5</td>\n",
       "      <td>1000.0</td>\n",
       "      <td>AMD Radeon 780M</td>\n",
       "      <td>17.3</td>\n",
       "      <td>2560x1440</td>\n",
       "      <td>Windows 11 Home</td>\n",
       "      <td>83.0</td>\n",
       "      <td>1862.41</td>\n",
       "      <td>0</td>\n",
       "    </tr>\n",
       "    <tr>\n",
       "      <th>2</th>\n",
       "      <td>Intel Core i7-14650HX</td>\n",
       "      <td>32.0</td>\n",
       "      <td>DDR5</td>\n",
       "      <td>1000.0</td>\n",
       "      <td>Intel® UHD Graphics</td>\n",
       "      <td>16.1</td>\n",
       "      <td>1920x1080</td>\n",
       "      <td>FreeDOS</td>\n",
       "      <td>70.0</td>\n",
       "      <td>1471.11</td>\n",
       "      <td>0</td>\n",
       "    </tr>\n",
       "    <tr>\n",
       "      <th>3</th>\n",
       "      <td>Intel Core i7-12650H</td>\n",
       "      <td>16.0</td>\n",
       "      <td>DDR4</td>\n",
       "      <td>512.0</td>\n",
       "      <td>Intel® UHD Graphics</td>\n",
       "      <td>15.6</td>\n",
       "      <td>1920x1080</td>\n",
       "      <td>FreeDOS</td>\n",
       "      <td>70.0</td>\n",
       "      <td>960.46</td>\n",
       "      <td>1</td>\n",
       "    </tr>\n",
       "    <tr>\n",
       "      <th>4</th>\n",
       "      <td>AMD Ryzen 7-8845HS</td>\n",
       "      <td>32.0</td>\n",
       "      <td>DDR5</td>\n",
       "      <td>1000.0</td>\n",
       "      <td>AMD Radeon 780M</td>\n",
       "      <td>17.3</td>\n",
       "      <td>1920x1080</td>\n",
       "      <td>FreeDOS</td>\n",
       "      <td>83.0</td>\n",
       "      <td>1471.11</td>\n",
       "      <td>0</td>\n",
       "    </tr>\n",
       "    <tr>\n",
       "      <th>...</th>\n",
       "      <td>...</td>\n",
       "      <td>...</td>\n",
       "      <td>...</td>\n",
       "      <td>...</td>\n",
       "      <td>...</td>\n",
       "      <td>...</td>\n",
       "      <td>...</td>\n",
       "      <td>...</td>\n",
       "      <td>...</td>\n",
       "      <td>...</td>\n",
       "      <td>...</td>\n",
       "    </tr>\n",
       "    <tr>\n",
       "      <th>242</th>\n",
       "      <td>Intel Core i7-1255U</td>\n",
       "      <td>8.0</td>\n",
       "      <td>DDR4</td>\n",
       "      <td>512.0</td>\n",
       "      <td>Intel Iris Xe Graphics</td>\n",
       "      <td>15.6</td>\n",
       "      <td>1920x1080</td>\n",
       "      <td>FreeDOS</td>\n",
       "      <td>38.0</td>\n",
       "      <td>782.99</td>\n",
       "      <td>1</td>\n",
       "    </tr>\n",
       "    <tr>\n",
       "      <th>243</th>\n",
       "      <td>Intel Core Ultra 9-185H</td>\n",
       "      <td>32.0</td>\n",
       "      <td>DDR5</td>\n",
       "      <td>2000.0</td>\n",
       "      <td>Intel Arc Graphics</td>\n",
       "      <td>14.0</td>\n",
       "      <td>2880x1800</td>\n",
       "      <td>Windows 11 Home</td>\n",
       "      <td>75.0</td>\n",
       "      <td>2599.00</td>\n",
       "      <td>0</td>\n",
       "    </tr>\n",
       "    <tr>\n",
       "      <th>244</th>\n",
       "      <td>AMD Ryzen 5-7520U</td>\n",
       "      <td>8.0</td>\n",
       "      <td>DDR5</td>\n",
       "      <td>512.0</td>\n",
       "      <td>AMD Radeon 610M</td>\n",
       "      <td>15.6</td>\n",
       "      <td>1920x1080</td>\n",
       "      <td>Windows 11 Home</td>\n",
       "      <td>42.0</td>\n",
       "      <td>599.00</td>\n",
       "      <td>0</td>\n",
       "    </tr>\n",
       "    <tr>\n",
       "      <th>245</th>\n",
       "      <td>AMD Ryzen AI 9 HX-370</td>\n",
       "      <td>32.0</td>\n",
       "      <td>DDR5</td>\n",
       "      <td>1000.0</td>\n",
       "      <td>AMD Radeon 890M</td>\n",
       "      <td>13.3</td>\n",
       "      <td>2880x1800</td>\n",
       "      <td>Windows 11 Home</td>\n",
       "      <td>73.0</td>\n",
       "      <td>2199.00</td>\n",
       "      <td>0</td>\n",
       "    </tr>\n",
       "    <tr>\n",
       "      <th>246</th>\n",
       "      <td>Intel Core i5-1340P</td>\n",
       "      <td>16.0</td>\n",
       "      <td>DDR5</td>\n",
       "      <td>512.0</td>\n",
       "      <td>Intel Iris Xe Graphics</td>\n",
       "      <td>15.0</td>\n",
       "      <td>1920x1080</td>\n",
       "      <td>Windows 11 Pro</td>\n",
       "      <td>41.0</td>\n",
       "      <td>1219.99</td>\n",
       "      <td>1</td>\n",
       "    </tr>\n",
       "  </tbody>\n",
       "</table>\n",
       "<p>235 rows × 11 columns</p>\n",
       "</div>"
      ],
      "text/plain": [
       "                  Procesador   RAM Tipo RAM  Almacenamiento  \\\n",
       "0       Intel Core i5-1135G7   8.0     DDR4           512.0   \n",
       "1         AMD Ryzen 7-8845HS  32.0     DDR5          1000.0   \n",
       "2      Intel Core i7-14650HX  32.0     DDR5          1000.0   \n",
       "3       Intel Core i7-12650H  16.0     DDR4           512.0   \n",
       "4         AMD Ryzen 7-8845HS  32.0     DDR5          1000.0   \n",
       "..                       ...   ...      ...             ...   \n",
       "242      Intel Core i7-1255U   8.0     DDR4           512.0   \n",
       "243  Intel Core Ultra 9-185H  32.0     DDR5          2000.0   \n",
       "244        AMD Ryzen 5-7520U   8.0     DDR5           512.0   \n",
       "245    AMD Ryzen AI 9 HX-370  32.0     DDR5          1000.0   \n",
       "246      Intel Core i5-1340P  16.0     DDR5           512.0   \n",
       "\n",
       "                   Graficos  Pantalla Resolucion Sistema Operativo  Bateria  \\\n",
       "0    Intel Iris Xe Graphics      15.6  1920x1080           FreeDOS     70.0   \n",
       "1           AMD Radeon 780M      17.3  2560x1440   Windows 11 Home     83.0   \n",
       "2       Intel® UHD Graphics      16.1  1920x1080           FreeDOS     70.0   \n",
       "3       Intel® UHD Graphics      15.6  1920x1080           FreeDOS     70.0   \n",
       "4           AMD Radeon 780M      17.3  1920x1080           FreeDOS     83.0   \n",
       "..                      ...       ...        ...               ...      ...   \n",
       "242  Intel Iris Xe Graphics      15.6  1920x1080           FreeDOS     38.0   \n",
       "243      Intel Arc Graphics      14.0  2880x1800   Windows 11 Home     75.0   \n",
       "244         AMD Radeon 610M      15.6  1920x1080   Windows 11 Home     42.0   \n",
       "245         AMD Radeon 890M      13.3  2880x1800   Windows 11 Home     73.0   \n",
       "246  Intel Iris Xe Graphics      15.0  1920x1080    Windows 11 Pro     41.0   \n",
       "\n",
       "      Precio  Chollo  \n",
       "0     549.00       1  \n",
       "1    1862.41       0  \n",
       "2    1471.11       0  \n",
       "3     960.46       1  \n",
       "4    1471.11       0  \n",
       "..       ...     ...  \n",
       "242   782.99       1  \n",
       "243  2599.00       0  \n",
       "244   599.00       0  \n",
       "245  2199.00       0  \n",
       "246  1219.99       1  \n",
       "\n",
       "[235 rows x 11 columns]"
      ]
     },
     "execution_count": 80,
     "metadata": {},
     "output_type": "execute_result"
    }
   ],
   "source": [
    "chollos_df = chollos_df.drop(columns=['Probabilidad_Chollo'])\n",
    "chollos_df"
   ]
  },
  {
   "cell_type": "code",
   "execution_count": 81,
   "metadata": {},
   "outputs": [
    {
     "data": {
      "text/plain": [
       "Procesador           0\n",
       "RAM                  0\n",
       "Tipo RAM             0\n",
       "Almacenamiento       0\n",
       "Graficos             0\n",
       "Pantalla             0\n",
       "Resolucion           0\n",
       "Sistema Operativo    0\n",
       "Bateria              0\n",
       "Precio               0\n",
       "Chollo               0\n",
       "dtype: int64"
      ]
     },
     "execution_count": 81,
     "metadata": {},
     "output_type": "execute_result"
    }
   ],
   "source": [
    "chollos_df.isnull().sum()"
   ]
  },
  {
   "cell_type": "code",
   "execution_count": 82,
   "metadata": {},
   "outputs": [
    {
     "data": {
      "text/plain": [
       "Chollo\n",
       "0    123\n",
       "1    112\n",
       "Name: count, dtype: int64"
      ]
     },
     "execution_count": 82,
     "metadata": {},
     "output_type": "execute_result"
    }
   ],
   "source": [
    "chollos_df['Chollo'].value_counts()"
   ]
  },
  {
   "cell_type": "markdown",
   "metadata": {},
   "source": [
    "# Transformació i normalització de dades"
   ]
  },
  {
   "cell_type": "code",
   "execution_count": 84,
   "metadata": {},
   "outputs": [
    {
     "data": {
      "text/html": [
       "<div>\n",
       "<style scoped>\n",
       "    .dataframe tbody tr th:only-of-type {\n",
       "        vertical-align: middle;\n",
       "    }\n",
       "\n",
       "    .dataframe tbody tr th {\n",
       "        vertical-align: top;\n",
       "    }\n",
       "\n",
       "    .dataframe thead th {\n",
       "        text-align: right;\n",
       "    }\n",
       "</style>\n",
       "<table border=\"1\" class=\"dataframe\">\n",
       "  <thead>\n",
       "    <tr style=\"text-align: right;\">\n",
       "      <th></th>\n",
       "      <th>num__RAM</th>\n",
       "      <th>num__Almacenamiento</th>\n",
       "      <th>num__Pantalla</th>\n",
       "      <th>num__Bateria</th>\n",
       "      <th>num__Precio</th>\n",
       "      <th>cat__Procesador_AMD 3000-3020E</th>\n",
       "      <th>cat__Procesador_AMD Ryzen 3-7320U</th>\n",
       "      <th>cat__Procesador_AMD Ryzen 3-7330U</th>\n",
       "      <th>cat__Procesador_AMD Ryzen 5 PRO-7530U</th>\n",
       "      <th>cat__Procesador_AMD Ryzen 5-5500U</th>\n",
       "      <th>...</th>\n",
       "      <th>cat__Sistema Operativo_ChromeOS</th>\n",
       "      <th>cat__Sistema Operativo_FreeDOS</th>\n",
       "      <th>cat__Sistema Operativo_Windows 10 Home en modo S</th>\n",
       "      <th>cat__Sistema Operativo_Windows 10 Pro</th>\n",
       "      <th>cat__Sistema Operativo_Windows 11 Home</th>\n",
       "      <th>cat__Sistema Operativo_Windows 11 Home in S mode</th>\n",
       "      <th>cat__Sistema Operativo_Windows 11 Pro</th>\n",
       "      <th>cat__Sistema Operativo_macOS Monterey</th>\n",
       "      <th>cat__Sistema Operativo_macOS Sequoia</th>\n",
       "      <th>cat__Sistema Operativo_macOS Sonoma</th>\n",
       "    </tr>\n",
       "  </thead>\n",
       "  <tbody>\n",
       "    <tr>\n",
       "      <th>0</th>\n",
       "      <td>-1.069412</td>\n",
       "      <td>-0.487342</td>\n",
       "      <td>0.263947</td>\n",
       "      <td>0.724133</td>\n",
       "      <td>-0.888325</td>\n",
       "      <td>0.0</td>\n",
       "      <td>0.0</td>\n",
       "      <td>0.0</td>\n",
       "      <td>0.0</td>\n",
       "      <td>0.0</td>\n",
       "      <td>...</td>\n",
       "      <td>0.0</td>\n",
       "      <td>1.0</td>\n",
       "      <td>0.0</td>\n",
       "      <td>0.0</td>\n",
       "      <td>0.0</td>\n",
       "      <td>0.0</td>\n",
       "      <td>0.0</td>\n",
       "      <td>0.0</td>\n",
       "      <td>0.0</td>\n",
       "      <td>0.0</td>\n",
       "    </tr>\n",
       "    <tr>\n",
       "      <th>1</th>\n",
       "      <td>1.439525</td>\n",
       "      <td>1.099674</td>\n",
       "      <td>1.796606</td>\n",
       "      <td>1.473024</td>\n",
       "      <td>0.775156</td>\n",
       "      <td>0.0</td>\n",
       "      <td>0.0</td>\n",
       "      <td>0.0</td>\n",
       "      <td>0.0</td>\n",
       "      <td>0.0</td>\n",
       "      <td>...</td>\n",
       "      <td>0.0</td>\n",
       "      <td>0.0</td>\n",
       "      <td>0.0</td>\n",
       "      <td>0.0</td>\n",
       "      <td>1.0</td>\n",
       "      <td>0.0</td>\n",
       "      <td>0.0</td>\n",
       "      <td>0.0</td>\n",
       "      <td>0.0</td>\n",
       "      <td>0.0</td>\n",
       "    </tr>\n",
       "    <tr>\n",
       "      <th>2</th>\n",
       "      <td>1.439525</td>\n",
       "      <td>1.099674</td>\n",
       "      <td>0.714729</td>\n",
       "      <td>0.724133</td>\n",
       "      <td>0.279560</td>\n",
       "      <td>0.0</td>\n",
       "      <td>0.0</td>\n",
       "      <td>0.0</td>\n",
       "      <td>0.0</td>\n",
       "      <td>0.0</td>\n",
       "      <td>...</td>\n",
       "      <td>0.0</td>\n",
       "      <td>1.0</td>\n",
       "      <td>0.0</td>\n",
       "      <td>0.0</td>\n",
       "      <td>0.0</td>\n",
       "      <td>0.0</td>\n",
       "      <td>0.0</td>\n",
       "      <td>0.0</td>\n",
       "      <td>0.0</td>\n",
       "      <td>0.0</td>\n",
       "    </tr>\n",
       "    <tr>\n",
       "      <th>3</th>\n",
       "      <td>-0.233100</td>\n",
       "      <td>-0.487342</td>\n",
       "      <td>0.263947</td>\n",
       "      <td>0.724133</td>\n",
       "      <td>-0.367196</td>\n",
       "      <td>0.0</td>\n",
       "      <td>0.0</td>\n",
       "      <td>0.0</td>\n",
       "      <td>0.0</td>\n",
       "      <td>0.0</td>\n",
       "      <td>...</td>\n",
       "      <td>0.0</td>\n",
       "      <td>1.0</td>\n",
       "      <td>0.0</td>\n",
       "      <td>0.0</td>\n",
       "      <td>0.0</td>\n",
       "      <td>0.0</td>\n",
       "      <td>0.0</td>\n",
       "      <td>0.0</td>\n",
       "      <td>0.0</td>\n",
       "      <td>0.0</td>\n",
       "    </tr>\n",
       "    <tr>\n",
       "      <th>4</th>\n",
       "      <td>1.439525</td>\n",
       "      <td>1.099674</td>\n",
       "      <td>1.796606</td>\n",
       "      <td>1.473024</td>\n",
       "      <td>0.279560</td>\n",
       "      <td>0.0</td>\n",
       "      <td>0.0</td>\n",
       "      <td>0.0</td>\n",
       "      <td>0.0</td>\n",
       "      <td>0.0</td>\n",
       "      <td>...</td>\n",
       "      <td>0.0</td>\n",
       "      <td>1.0</td>\n",
       "      <td>0.0</td>\n",
       "      <td>0.0</td>\n",
       "      <td>0.0</td>\n",
       "      <td>0.0</td>\n",
       "      <td>0.0</td>\n",
       "      <td>0.0</td>\n",
       "      <td>0.0</td>\n",
       "      <td>0.0</td>\n",
       "    </tr>\n",
       "    <tr>\n",
       "      <th>...</th>\n",
       "      <td>...</td>\n",
       "      <td>...</td>\n",
       "      <td>...</td>\n",
       "      <td>...</td>\n",
       "      <td>...</td>\n",
       "      <td>...</td>\n",
       "      <td>...</td>\n",
       "      <td>...</td>\n",
       "      <td>...</td>\n",
       "      <td>...</td>\n",
       "      <td>...</td>\n",
       "      <td>...</td>\n",
       "      <td>...</td>\n",
       "      <td>...</td>\n",
       "      <td>...</td>\n",
       "      <td>...</td>\n",
       "      <td>...</td>\n",
       "      <td>...</td>\n",
       "      <td>...</td>\n",
       "      <td>...</td>\n",
       "      <td>...</td>\n",
       "    </tr>\n",
       "    <tr>\n",
       "      <th>230</th>\n",
       "      <td>-1.069412</td>\n",
       "      <td>-0.487342</td>\n",
       "      <td>0.263947</td>\n",
       "      <td>-1.119293</td>\n",
       "      <td>-0.591968</td>\n",
       "      <td>0.0</td>\n",
       "      <td>0.0</td>\n",
       "      <td>0.0</td>\n",
       "      <td>0.0</td>\n",
       "      <td>0.0</td>\n",
       "      <td>...</td>\n",
       "      <td>0.0</td>\n",
       "      <td>1.0</td>\n",
       "      <td>0.0</td>\n",
       "      <td>0.0</td>\n",
       "      <td>0.0</td>\n",
       "      <td>0.0</td>\n",
       "      <td>0.0</td>\n",
       "      <td>0.0</td>\n",
       "      <td>0.0</td>\n",
       "      <td>0.0</td>\n",
       "    </tr>\n",
       "    <tr>\n",
       "      <th>231</th>\n",
       "      <td>1.439525</td>\n",
       "      <td>4.351757</td>\n",
       "      <td>-1.178555</td>\n",
       "      <td>1.012168</td>\n",
       "      <td>1.708074</td>\n",
       "      <td>0.0</td>\n",
       "      <td>0.0</td>\n",
       "      <td>0.0</td>\n",
       "      <td>0.0</td>\n",
       "      <td>0.0</td>\n",
       "      <td>...</td>\n",
       "      <td>0.0</td>\n",
       "      <td>0.0</td>\n",
       "      <td>0.0</td>\n",
       "      <td>0.0</td>\n",
       "      <td>1.0</td>\n",
       "      <td>0.0</td>\n",
       "      <td>0.0</td>\n",
       "      <td>0.0</td>\n",
       "      <td>0.0</td>\n",
       "      <td>0.0</td>\n",
       "    </tr>\n",
       "    <tr>\n",
       "      <th>232</th>\n",
       "      <td>-1.069412</td>\n",
       "      <td>-0.487342</td>\n",
       "      <td>0.263947</td>\n",
       "      <td>-0.888864</td>\n",
       "      <td>-0.824998</td>\n",
       "      <td>0.0</td>\n",
       "      <td>0.0</td>\n",
       "      <td>0.0</td>\n",
       "      <td>0.0</td>\n",
       "      <td>0.0</td>\n",
       "      <td>...</td>\n",
       "      <td>0.0</td>\n",
       "      <td>0.0</td>\n",
       "      <td>0.0</td>\n",
       "      <td>0.0</td>\n",
       "      <td>1.0</td>\n",
       "      <td>0.0</td>\n",
       "      <td>0.0</td>\n",
       "      <td>0.0</td>\n",
       "      <td>0.0</td>\n",
       "      <td>0.0</td>\n",
       "    </tr>\n",
       "    <tr>\n",
       "      <th>233</th>\n",
       "      <td>1.439525</td>\n",
       "      <td>1.099674</td>\n",
       "      <td>-1.809650</td>\n",
       "      <td>0.896954</td>\n",
       "      <td>1.201459</td>\n",
       "      <td>0.0</td>\n",
       "      <td>0.0</td>\n",
       "      <td>0.0</td>\n",
       "      <td>0.0</td>\n",
       "      <td>0.0</td>\n",
       "      <td>...</td>\n",
       "      <td>0.0</td>\n",
       "      <td>0.0</td>\n",
       "      <td>0.0</td>\n",
       "      <td>0.0</td>\n",
       "      <td>1.0</td>\n",
       "      <td>0.0</td>\n",
       "      <td>0.0</td>\n",
       "      <td>0.0</td>\n",
       "      <td>0.0</td>\n",
       "      <td>0.0</td>\n",
       "    </tr>\n",
       "    <tr>\n",
       "      <th>234</th>\n",
       "      <td>-0.233100</td>\n",
       "      <td>-0.487342</td>\n",
       "      <td>-0.276991</td>\n",
       "      <td>-0.946472</td>\n",
       "      <td>-0.038492</td>\n",
       "      <td>0.0</td>\n",
       "      <td>0.0</td>\n",
       "      <td>0.0</td>\n",
       "      <td>0.0</td>\n",
       "      <td>0.0</td>\n",
       "      <td>...</td>\n",
       "      <td>0.0</td>\n",
       "      <td>0.0</td>\n",
       "      <td>0.0</td>\n",
       "      <td>0.0</td>\n",
       "      <td>0.0</td>\n",
       "      <td>0.0</td>\n",
       "      <td>1.0</td>\n",
       "      <td>0.0</td>\n",
       "      <td>0.0</td>\n",
       "      <td>0.0</td>\n",
       "    </tr>\n",
       "  </tbody>\n",
       "</table>\n",
       "<p>235 rows × 122 columns</p>\n",
       "</div>"
      ],
      "text/plain": [
       "     num__RAM  num__Almacenamiento  num__Pantalla  num__Bateria  num__Precio  \\\n",
       "0   -1.069412            -0.487342       0.263947      0.724133    -0.888325   \n",
       "1    1.439525             1.099674       1.796606      1.473024     0.775156   \n",
       "2    1.439525             1.099674       0.714729      0.724133     0.279560   \n",
       "3   -0.233100            -0.487342       0.263947      0.724133    -0.367196   \n",
       "4    1.439525             1.099674       1.796606      1.473024     0.279560   \n",
       "..        ...                  ...            ...           ...          ...   \n",
       "230 -1.069412            -0.487342       0.263947     -1.119293    -0.591968   \n",
       "231  1.439525             4.351757      -1.178555      1.012168     1.708074   \n",
       "232 -1.069412            -0.487342       0.263947     -0.888864    -0.824998   \n",
       "233  1.439525             1.099674      -1.809650      0.896954     1.201459   \n",
       "234 -0.233100            -0.487342      -0.276991     -0.946472    -0.038492   \n",
       "\n",
       "     cat__Procesador_AMD 3000-3020E  cat__Procesador_AMD Ryzen 3-7320U  \\\n",
       "0                               0.0                                0.0   \n",
       "1                               0.0                                0.0   \n",
       "2                               0.0                                0.0   \n",
       "3                               0.0                                0.0   \n",
       "4                               0.0                                0.0   \n",
       "..                              ...                                ...   \n",
       "230                             0.0                                0.0   \n",
       "231                             0.0                                0.0   \n",
       "232                             0.0                                0.0   \n",
       "233                             0.0                                0.0   \n",
       "234                             0.0                                0.0   \n",
       "\n",
       "     cat__Procesador_AMD Ryzen 3-7330U  cat__Procesador_AMD Ryzen 5 PRO-7530U  \\\n",
       "0                                  0.0                                    0.0   \n",
       "1                                  0.0                                    0.0   \n",
       "2                                  0.0                                    0.0   \n",
       "3                                  0.0                                    0.0   \n",
       "4                                  0.0                                    0.0   \n",
       "..                                 ...                                    ...   \n",
       "230                                0.0                                    0.0   \n",
       "231                                0.0                                    0.0   \n",
       "232                                0.0                                    0.0   \n",
       "233                                0.0                                    0.0   \n",
       "234                                0.0                                    0.0   \n",
       "\n",
       "     cat__Procesador_AMD Ryzen 5-5500U  ...  cat__Sistema Operativo_ChromeOS  \\\n",
       "0                                  0.0  ...                              0.0   \n",
       "1                                  0.0  ...                              0.0   \n",
       "2                                  0.0  ...                              0.0   \n",
       "3                                  0.0  ...                              0.0   \n",
       "4                                  0.0  ...                              0.0   \n",
       "..                                 ...  ...                              ...   \n",
       "230                                0.0  ...                              0.0   \n",
       "231                                0.0  ...                              0.0   \n",
       "232                                0.0  ...                              0.0   \n",
       "233                                0.0  ...                              0.0   \n",
       "234                                0.0  ...                              0.0   \n",
       "\n",
       "     cat__Sistema Operativo_FreeDOS  \\\n",
       "0                               1.0   \n",
       "1                               0.0   \n",
       "2                               1.0   \n",
       "3                               1.0   \n",
       "4                               1.0   \n",
       "..                              ...   \n",
       "230                             1.0   \n",
       "231                             0.0   \n",
       "232                             0.0   \n",
       "233                             0.0   \n",
       "234                             0.0   \n",
       "\n",
       "     cat__Sistema Operativo_Windows 10 Home en modo S  \\\n",
       "0                                                 0.0   \n",
       "1                                                 0.0   \n",
       "2                                                 0.0   \n",
       "3                                                 0.0   \n",
       "4                                                 0.0   \n",
       "..                                                ...   \n",
       "230                                               0.0   \n",
       "231                                               0.0   \n",
       "232                                               0.0   \n",
       "233                                               0.0   \n",
       "234                                               0.0   \n",
       "\n",
       "     cat__Sistema Operativo_Windows 10 Pro  \\\n",
       "0                                      0.0   \n",
       "1                                      0.0   \n",
       "2                                      0.0   \n",
       "3                                      0.0   \n",
       "4                                      0.0   \n",
       "..                                     ...   \n",
       "230                                    0.0   \n",
       "231                                    0.0   \n",
       "232                                    0.0   \n",
       "233                                    0.0   \n",
       "234                                    0.0   \n",
       "\n",
       "     cat__Sistema Operativo_Windows 11 Home  \\\n",
       "0                                       0.0   \n",
       "1                                       1.0   \n",
       "2                                       0.0   \n",
       "3                                       0.0   \n",
       "4                                       0.0   \n",
       "..                                      ...   \n",
       "230                                     0.0   \n",
       "231                                     1.0   \n",
       "232                                     1.0   \n",
       "233                                     1.0   \n",
       "234                                     0.0   \n",
       "\n",
       "     cat__Sistema Operativo_Windows 11 Home in S mode  \\\n",
       "0                                                 0.0   \n",
       "1                                                 0.0   \n",
       "2                                                 0.0   \n",
       "3                                                 0.0   \n",
       "4                                                 0.0   \n",
       "..                                                ...   \n",
       "230                                               0.0   \n",
       "231                                               0.0   \n",
       "232                                               0.0   \n",
       "233                                               0.0   \n",
       "234                                               0.0   \n",
       "\n",
       "     cat__Sistema Operativo_Windows 11 Pro  \\\n",
       "0                                      0.0   \n",
       "1                                      0.0   \n",
       "2                                      0.0   \n",
       "3                                      0.0   \n",
       "4                                      0.0   \n",
       "..                                     ...   \n",
       "230                                    0.0   \n",
       "231                                    0.0   \n",
       "232                                    0.0   \n",
       "233                                    0.0   \n",
       "234                                    1.0   \n",
       "\n",
       "     cat__Sistema Operativo_macOS Monterey  \\\n",
       "0                                      0.0   \n",
       "1                                      0.0   \n",
       "2                                      0.0   \n",
       "3                                      0.0   \n",
       "4                                      0.0   \n",
       "..                                     ...   \n",
       "230                                    0.0   \n",
       "231                                    0.0   \n",
       "232                                    0.0   \n",
       "233                                    0.0   \n",
       "234                                    0.0   \n",
       "\n",
       "     cat__Sistema Operativo_macOS Sequoia  cat__Sistema Operativo_macOS Sonoma  \n",
       "0                                     0.0                                  0.0  \n",
       "1                                     0.0                                  0.0  \n",
       "2                                     0.0                                  0.0  \n",
       "3                                     0.0                                  0.0  \n",
       "4                                     0.0                                  0.0  \n",
       "..                                    ...                                  ...  \n",
       "230                                   0.0                                  0.0  \n",
       "231                                   0.0                                  0.0  \n",
       "232                                   0.0                                  0.0  \n",
       "233                                   0.0                                  0.0  \n",
       "234                                   0.0                                  0.0  \n",
       "\n",
       "[235 rows x 122 columns]"
      ]
     },
     "execution_count": 84,
     "metadata": {},
     "output_type": "execute_result"
    }
   ],
   "source": [
    "from sklearn.pipeline import Pipeline\n",
    "from sklearn.compose import ColumnTransformer\n",
    "from sklearn.preprocessing import StandardScaler, OneHotEncoder\n",
    "\n",
    "# Definir las columnas numéricas y categóricas\n",
    "numeric_features = ['RAM', 'Almacenamiento', 'Pantalla', 'Bateria', 'Precio']\n",
    "categorical_features = ['Procesador', 'Tipo RAM', 'Graficos', 'Resolucion', 'Sistema Operativo']\n",
    "\n",
    "# Crear los transformadores para las columnas numéricas y categóricas\n",
    "numeric_transformer = Pipeline(steps=[\n",
    "    ('scaler', StandardScaler())\n",
    "])\n",
    "\n",
    "categorical_transformer = Pipeline(steps=[\n",
    "    ('onehot', OneHotEncoder(handle_unknown='ignore'))\n",
    "])\n",
    "\n",
    "# Crear el preprocesador que aplica los transformadores a las columnas correspondientes\n",
    "preprocessor = ColumnTransformer(\n",
    "    transformers=[\n",
    "        ('num', numeric_transformer, numeric_features),\n",
    "        ('cat', categorical_transformer, categorical_features)\n",
    "    ])\n",
    "\n",
    "# Crear el pipeline completo\n",
    "pipeline = Pipeline(steps=[('preprocessor', preprocessor)])\n",
    "\n",
    "# Aplicar el pipeline a los datos\n",
    "df_transformed = pipeline.fit_transform(chollos_df)\n",
    "\n",
    "# Convertir el resultado a un DataFrame\n",
    "df_transformed = pd.DataFrame(df_transformed.toarray(), columns=pipeline.named_steps['preprocessor'].get_feature_names_out())\n",
    "df_transformed"
   ]
  }
 ],
 "metadata": {
  "kernelspec": {
   "display_name": ".venv",
   "language": "python",
   "name": "python3"
  },
  "language_info": {
   "codemirror_mode": {
    "name": "ipython",
    "version": 3
   },
   "file_extension": ".py",
   "mimetype": "text/x-python",
   "name": "python",
   "nbconvert_exporter": "python",
   "pygments_lexer": "ipython3",
   "version": "3.12.9"
  }
 },
 "nbformat": 4,
 "nbformat_minor": 2
}
