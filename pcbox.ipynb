{
 "cells": [
  {
   "cell_type": "code",
   "execution_count": null,
   "metadata": {},
   "outputs": [],
   "source": [
    "from requests_html import HTMLSession\n",
    "\n",
    "session = HTMLSession()\n",
    "portatil_links = []\n",
    "\n",
    "for i in range(1,3):\n",
    "    print(f'Pagina {i}')\n",
    "    r = session.get(url=f\"https://www.pcbox.com/ordenadores/ordenadores-portatiles?page={i}\")\n",
    "    \n",
    "    articles = r.html.find('article')\n",
    "    links = [article.find('a', first=True).attrs['href'] for article in articles]\n",
    "    portatil_links.extend(links)"
   ]
  }
 ],
 "metadata": {
  "kernelspec": {
   "display_name": ".venv",
   "language": "python",
   "name": "python3"
  },
  "language_info": {
   "codemirror_mode": {
    "name": "ipython",
    "version": 3
   },
   "file_extension": ".py",
   "mimetype": "text/x-python",
   "name": "python",
   "nbconvert_exporter": "python",
   "pygments_lexer": "ipython3",
   "version": "3.12.9"
  }
 },
 "nbformat": 4,
 "nbformat_minor": 2
}
