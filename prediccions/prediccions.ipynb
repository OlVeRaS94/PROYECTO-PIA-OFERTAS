{
 "cells": [
  {
   "cell_type": "code",
   "execution_count": 15,
   "metadata": {},
   "outputs": [],
   "source": [
    "import pandas as pd\n",
    "import numpy as np"
   ]
  },
  {
   "cell_type": "code",
   "execution_count": 17,
   "metadata": {},
   "outputs": [],
   "source": [
    "import joblib\n",
    "model = joblib.load('model_chollo.pkl')\n",
    "preprocessor = joblib.load('preprocessor.pkl')"
   ]
  },
  {
   "cell_type": "code",
   "execution_count": 25,
   "metadata": {},
   "outputs": [],
   "source": [
    "def preprocesar_nuevos_datos(nuevos_datos):\n",
    "    # Convertir a DataFrame si es un diccionario\n",
    "    if isinstance(nuevos_datos, dict):\n",
    "        nuevos_datos = pd.DataFrame([nuevos_datos])\n",
    "    \n",
    "    # Preprocesar los nuevos datos\n",
    "    return preprocessor.transform(nuevos_datos)"
   ]
  },
  {
   "cell_type": "code",
   "execution_count": 19,
   "metadata": {},
   "outputs": [],
   "source": [
    "def predecir_chollo(nuevos_datos):\n",
    "    # Preprocesar los nuevos datos\n",
    "    X_nuevo_prep = preprocesar_nuevos_datos(nuevos_datos)\n",
    "    \n",
    "    # Realizar predicción\n",
    "    prediccion = model.predict(X_nuevo_prep)\n",
    "    \n",
    "    # Obtener probabilidades (para RandomForest y otros modelos que lo soporten)\n",
    "    if hasattr(model, 'predict_proba'):\n",
    "        probabilidad = model.predict_proba(X_nuevo_prep)[:, 1]  # Probabilidad de la clase 1 (chollo)\n",
    "    else:\n",
    "        probabilidad = None\n",
    "    \n",
    "    # Crear un resumen con los detalles\n",
    "    if isinstance(nuevos_datos, dict):\n",
    "        detalles = nuevos_datos.copy()\n",
    "    else:\n",
    "        detalles = nuevos_datos.iloc[0].to_dict() if len(nuevos_datos) == 1 else nuevos_datos.to_dict(orient='records')\n",
    "    \n",
    "    resultado = {\n",
    "        'es_chollo': bool(prediccion[0] == 1),\n",
    "        'probabilidad': float(probabilidad[0]) if probabilidad is not None else None,\n",
    "        'detalles': detalles\n",
    "    }\n",
    "    \n",
    "    return resultado"
   ]
  },
  {
   "cell_type": "code",
   "execution_count": 45,
   "metadata": {
    "vscode": {
     "languageId": "ruby"
    }
   },
   "outputs": [
    {
     "name": "stdout",
     "output_type": "stream",
     "text": [
      "¿Es un chollo?: True\n",
      "Probabilidad de ser chollo: 0.67\n",
      "\n",
      "Detalles del producto:\n",
      "- Procesador: Apple M1\n",
      "- RAM: 8.0\n",
      "- Tipo RAM: DDR4\n",
      "- Almacenamiento: 512.0\n",
      "- Graficos: Intel Iris Xe Graphics\n",
      "- Pantalla: 15.6\n",
      "- Resolucion: 1920x1080\n",
      "- Sistema Operativo: Windows 11 Home\n",
      "- Bateria: 41.0\n",
      "- Precio: 4650.0\n"
     ]
    }
   ],
   "source": [
    "# Crear datos de prueba con las columnas adecuadas que espera el preprocessor\n",
    "datos_prueba = {\n",
    "    'Procesador': 'Apple M1',\n",
    "    'RAM': 8.0,\n",
    "    'Tipo RAM': 'DDR4',\n",
    "    'Almacenamiento': 512.0,\n",
    "    'Graficos': 'Intel Iris Xe Graphics',\n",
    "    'Pantalla': 15.6,\n",
    "    'Resolucion': '1920x1080',\n",
    "    'Sistema Operativo': 'Windows 11 Home',\n",
    "    'Bateria': 41.0,\n",
    "    'Precio': 4650.0\n",
    "}\n",
    "\n",
    "# Realizar predicción\n",
    "resultado = predecir_chollo(datos_prueba)\n",
    "\n",
    "# Mostrar resultado\n",
    "print(f\"¿Es un chollo?: {resultado['es_chollo']}\")\n",
    "print(f\"Probabilidad de ser chollo: {resultado['probabilidad']:.2f}\")\n",
    "print(\"\\nDetalles del producto:\")\n",
    "for clave, valor in resultado['detalles'].items():\n",
    "    print(f\"- {clave}: {valor}\")"
   ]
  }
 ],
 "metadata": {
  "kernelspec": {
   "display_name": ".venv",
   "language": "python",
   "name": "python3"
  },
  "language_info": {
   "codemirror_mode": {
    "name": "ipython",
    "version": 3
   },
   "file_extension": ".py",
   "mimetype": "text/x-python",
   "name": "python",
   "nbconvert_exporter": "python",
   "pygments_lexer": "ipython3",
   "version": "3.12.9"
  }
 },
 "nbformat": 4,
 "nbformat_minor": 2
}
